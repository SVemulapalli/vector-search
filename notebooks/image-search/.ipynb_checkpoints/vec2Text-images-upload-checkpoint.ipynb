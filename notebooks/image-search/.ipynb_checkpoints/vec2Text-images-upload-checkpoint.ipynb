{
 "cells": [
  {
   "cell_type": "code",
   "execution_count": null,
   "metadata": {},
   "outputs": [],
   "source": [
    "import azureCognitiveSearch\n",
    "import vec2Text\n",
    "import vec2TextSentenceTransformerImage\n",
    "\n",
    "import pickle "
   ]
  },
  {
   "cell_type": "code",
   "execution_count": null,
   "metadata": {},
   "outputs": [],
   "source": [
    "# Get all the files that will eventually be indexed\n",
    "files = vec2Text.getFilesInDir(vec2Text.data_path)\n",
    "print ('Total Files:', len(files))\n",
    "\n",
    "# Load the cluster centers\n",
    "with open(vec2Text.custer_center_file, 'rb') as pickle_in:\n",
    "    clusterCenters = pickle.load(pickle_in)"
   ]
  },
  {
   "cell_type": "code",
   "execution_count": null,
   "metadata": {},
   "outputs": [],
   "source": [
    "# Reset Index\n",
    "azureCognitiveSearch.deleteIndex()\n",
    "azureCognitiveSearch.createIndex()"
   ]
  },
  {
   "cell_type": "code",
   "execution_count": null,
   "metadata": {},
   "outputs": [],
   "source": [
    "# Upload to Cognitive Search\n",
    "max_batch_size = 100\n",
    "documents = []\n",
    "\n",
    "counter = 0\n",
    "for file in files:\n",
    "    curVec = vec2TextSentenceTransformerImage.imageEmbedding(file)\n",
    "    vecText = ''\n",
    "    for d in range(len(curVec)):\n",
    "        vecText += vec2Text.convertFieldNumToString(d) + str(vec2Text.closest(clusterCenters[d], curVec[d])) + ' '\n",
    "\n",
    "    documents.append({\"@search.action\": \"upload\",\"Id\": vec2Text.stringToBase64(file), \"Content\": file,\"VecText\": vecText })\n",
    "\n",
    "    counter += 1\n",
    "    if len(documents) == max_batch_size:\n",
    "        azureCognitiveSearch.uploadDocuments(documents)\n",
    "        documents = []\n",
    "        print ('Processed:', counter)\n",
    "\n",
    "if len(documents) > 0:\n",
    "    azureCognitiveSearch.uploadDocuments(documents)\n",
    "    documents = []\n",
    "    print ('Processed:', counter)\n"
   ]
  },
  {
   "cell_type": "code",
   "execution_count": null,
   "metadata": {},
   "outputs": [],
   "source": []
  }
 ],
 "metadata": {
  "kernelspec": {
   "display_name": "Python 3",
   "language": "python",
   "name": "python3"
  },
  "language_info": {
   "codemirror_mode": {
    "name": "ipython",
    "version": 3
   },
   "file_extension": ".py",
   "mimetype": "text/x-python",
   "name": "python",
   "nbconvert_exporter": "python",
   "pygments_lexer": "ipython3",
   "version": "3.7.10"
  }
 },
 "nbformat": 4,
 "nbformat_minor": 4
}
