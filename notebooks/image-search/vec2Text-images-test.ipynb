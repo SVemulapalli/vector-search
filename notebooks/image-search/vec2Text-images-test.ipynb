{
 "cells": [
  {
   "cell_type": "code",
   "execution_count": null,
   "metadata": {},
   "outputs": [],
   "source": [
    "from IPython.display import Image\n",
    "\n",
    "import azureCognitiveSearch\n",
    "import vec2Text\n",
    "import vec2TextSentenceTransformerImage\n",
    "import pickle, datetime\n"
   ]
  },
  {
   "cell_type": "code",
   "execution_count": null,
   "metadata": {},
   "outputs": [],
   "source": [
    "def vecImageToText(file):\n",
    "    curVec = vec2TextSentenceTransformerImage.imageEmbedding(file)\n",
    "    vecText = ''\n",
    "    for d in range(len(curVec)):\n",
    "        vecText += vec2Text.convertFieldNumToString(d) + str(vec2Text.closest(clusterCenters[d], curVec[d])) + ' '\n",
    "    return vecText\n",
    "\n",
    "def vecQueryToText(query):\n",
    "    curVec = vec2TextSentenceTransformerImage.textEmbedding(query)\n",
    "    vecText = ''\n",
    "    for d in range(len(curVec)):\n",
    "        vecText += vec2Text.convertFieldNumToString(d) + str(vec2Text.closest(clusterCenters[d], curVec[d])) + ' '\n",
    "    return vecText\n",
    "\n",
    "\n",
    "def executeFileSearch(file):\n",
    "    return azureCognitiveSearch.searchClient.search(search_text=vecImageToText(file), include_total_count=False, select='Content', top=5)\n",
    "\n",
    "def executeQuerySearch(query):\n",
    "    return azureCognitiveSearch.searchClient.search(search_text=vecQueryToText(query), include_total_count=False, select='Content', top=5)\n",
    "\n"
   ]
  },
  {
   "cell_type": "code",
   "execution_count": null,
   "metadata": {},
   "outputs": [],
   "source": [
    "# Load the cluster centers\n",
    "with open(vec2Text.custer_center_file, 'rb') as pickle_in:\n",
    "    clusterCenters = pickle.load(pickle_in)    "
   ]
  },
  {
   "cell_type": "code",
   "execution_count": null,
   "metadata": {},
   "outputs": [],
   "source": [
    "file = './data/holiday-images/130001.jpg'\n",
    "# file = './data/holiday-images/143301.jpg'\n",
    "\n",
    "# Uncomment this to see what the fake text for this vector is\n",
    "# print (vecImageToText(file) + '\\n')\n",
    "\n",
    "results = executeFileSearch(file)\n",
    "for result in results:\n",
    "    print(\"{}\".format(result[\"Content\"]))\n",
    "    display (Image(filename=result[\"Content\"], width = 600))\n"
   ]
  },
  {
   "cell_type": "code",
   "execution_count": null,
   "metadata": {},
   "outputs": [],
   "source": [
    "# Convert text to an embedding and perform an image search \n",
    "# This is very experimental\n",
    "query = \"donkey\"\n",
    "\n",
    "results = executeQuerySearch(query)\n",
    "for result in results:\n",
    "    print(\"{}\".format(result[\"Content\"]))\n",
    "    display (Image(filename=result[\"Content\"], width = 600))\n"
   ]
  },
  {
   "cell_type": "code",
   "execution_count": null,
   "metadata": {},
   "outputs": [],
   "source": []
  }
 ],
 "metadata": {
  "kernelspec": {
   "display_name": "Python 3",
   "language": "python",
   "name": "python3"
  },
  "language_info": {
   "codemirror_mode": {
    "name": "ipython",
    "version": 3
   },
   "file_extension": ".py",
   "mimetype": "text/x-python",
   "name": "python",
   "nbconvert_exporter": "python",
   "pygments_lexer": "ipython3",
   "version": "3.7.10"
  }
 },
 "nbformat": 4,
 "nbformat_minor": 4
}
