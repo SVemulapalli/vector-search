{
 "cells": [
  {
   "cell_type": "markdown",
   "metadata": {},
   "source": [
    "#pip install -U sentence-transformers\n",
    "\n",
    "This notebook will take a test set of files (testSamplesToTest) and determine the optimal way to cluster vectors into fake words that will be indexed into Azure Cognitive Search"
   ]
  },
  {
   "cell_type": "code",
   "execution_count": null,
   "metadata": {},
   "outputs": [],
   "source": [
    "import vec2Text\n",
    "import vec2TextSentenceTransformerImage\n",
    "\n",
    "import random\n",
    "import pickle "
   ]
  },
  {
   "cell_type": "code",
   "execution_count": null,
   "metadata": {},
   "outputs": [],
   "source": [
    "# Get all the files that will eventually be indexed\n",
    "files = vec2Text.getFilesInDir(vec2Text.data_path)\n",
    "print ('Total Files:', len(files))\n",
    "\n",
    "#Look at a single document and determine the number of dimensions the resulting vectors will have\n",
    "dimensions = vec2TextSentenceTransformerImage.calculateDimensions(files[0])\n",
    "print ('Vector Dimensions:', dimensions)\n"
   ]
  },
  {
   "cell_type": "code",
   "execution_count": null,
   "metadata": {},
   "outputs": [],
   "source": [
    "# Add test vectors to a dictionary\n",
    "vecDict = vec2Text.initializeVectorDictionary(dimensions)\n",
    "\n",
    "counter = 0\n",
    "for file in files:\n",
    "    cur_vec = vec2TextSentenceTransformerImage.imageEmbedding(file)\n",
    "    for d in range(dimensions):\n",
    "        vecDict[str(d)].append(cur_vec[d])\n",
    "\n",
    "    counter +=1\n",
    "    if counter % 10 == 0:\n",
    "        print ('Processed:', counter, 'of', vec2Text.testSamplesToTest)\n",
    "    if counter == vec2Text.testSamplesToTest:\n",
    "        break\n"
   ]
  },
  {
   "cell_type": "code",
   "execution_count": null,
   "metadata": {},
   "outputs": [],
   "source": [
    "# Find the cluster centers\n",
    "clusterCenters = vec2Text.findClusterCenters(dimensions, vecDict)"
   ]
  },
  {
   "cell_type": "code",
   "execution_count": null,
   "metadata": {},
   "outputs": [],
   "source": [
    "# Save the cluster centers\n",
    "with open(vec2Text.custer_center_file, 'wb') as pickle_out:\n",
    "    pickle.dump(clusterCenters, pickle_out)"
   ]
  },
  {
   "cell_type": "code",
   "execution_count": null,
   "metadata": {},
   "outputs": [],
   "source": []
  }
 ],
 "metadata": {
  "kernelspec": {
   "display_name": "Python 3",
   "language": "python",
   "name": "python3"
  },
  "language_info": {
   "codemirror_mode": {
    "name": "ipython",
    "version": 3
   },
   "file_extension": ".py",
   "mimetype": "text/x-python",
   "name": "python",
   "nbconvert_exporter": "python",
   "pygments_lexer": "ipython3",
   "version": "3.7.10"
  }
 },
 "nbformat": 4,
 "nbformat_minor": 4
}
