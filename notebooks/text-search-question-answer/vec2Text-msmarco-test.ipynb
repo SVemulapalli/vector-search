{
 "cells": [
  {
   "cell_type": "code",
   "execution_count": null,
   "metadata": {},
   "outputs": [],
   "source": [
    "import azureCognitiveSearch\n",
    "import vec2Text\n",
    "import vec2TextSentenceTransformer\n",
    "\n",
    "import pickle, datetime"
   ]
  },
  {
   "cell_type": "code",
   "execution_count": null,
   "metadata": {},
   "outputs": [],
   "source": [
    "def vecToText(query):\n",
    "    curVec = vec2TextSentenceTransformer.contentToMeanEmbedding(query)\n",
    "    vecText = ''\n",
    "    for d in range(len(curVec)):\n",
    "        vecText += vec2Text.convertFieldNumToString(d) + str(vec2Text.closest(clusterCenters[d], curVec[d])) + ' '\n",
    "    return vecText\n",
    "\n",
    "\n",
    "def executeQuery(query, searchField):\n",
    "    return azureCognitiveSearch.searchClient.search(search_text=query, include_total_count=False, search_fields=searchField, select='Content', top=5)\n"
   ]
  },
  {
   "cell_type": "code",
   "execution_count": null,
   "metadata": {},
   "outputs": [],
   "source": [
    "# Load the cluster centers\n",
    "with open(vec2Text.clusterCenterFile, 'rb') as pickle_in:\n",
    "    clusterCenters = pickle.load(pickle_in)\n",
    "    "
   ]
  },
  {
   "cell_type": "code",
   "execution_count": null,
   "metadata": {},
   "outputs": [],
   "source": [
    "# Perform a query using the traditional BM25\n",
    "query = \"when did the manhattan project begin?\"\n",
    "\n",
    "results = executeQuery(query, 'Content')\n",
    "for result in results:\n",
    "    print(\"{}\".format(result[\"Content\"]))"
   ]
  },
  {
   "cell_type": "code",
   "execution_count": null,
   "metadata": {},
   "outputs": [],
   "source": [
    "# Perform a query using the sentence tranformer embeddings\n",
    "query = \"when did the manhattan project begin?\"\n",
    "\n",
    "# Uncomment to see the fake terms created for this query\n",
    "# print (vecToText(query) + '\\n')\n",
    "results = executeQuery(vecToText(query), 'VecText')\n",
    "for result in results:\n",
    "    print(\"{}\".format(result[\"Content\"]))"
   ]
  },
  {
   "cell_type": "code",
   "execution_count": null,
   "metadata": {},
   "outputs": [],
   "source": []
  }
 ],
 "metadata": {
  "kernelspec": {
   "display_name": "py37_pytorch",
   "language": "python",
   "name": "conda-env-py37_pytorch-py"
  },
  "language_info": {
   "codemirror_mode": {
    "name": "ipython",
    "version": 3
   },
   "file_extension": ".py",
   "mimetype": "text/x-python",
   "name": "python",
   "nbconvert_exporter": "python",
   "pygments_lexer": "ipython3",
   "version": "3.7.6"
  }
 },
 "nbformat": 4,
 "nbformat_minor": 4
}
