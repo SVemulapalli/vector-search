{
 "cells": [
  {
   "cell_type": "code",
   "execution_count": null,
   "metadata": {},
   "outputs": [],
   "source": [
    "import vec2Text\n",
    "import vec2TextSentenceTransformer\n",
    "\n",
    "import random\n",
    "import pickle"
   ]
  },
  {
   "cell_type": "code",
   "execution_count": null,
   "metadata": {},
   "outputs": [],
   "source": [
    "#Find the number of dimensions in this model\n",
    "with open(vec2Text.dataFile) as f:\n",
    "    fields = f.readline().split('\\t')\n",
    "    dimensions = vec2TextSentenceTransformer.calculateDimensions(fields[1])\n",
    "print ('Dimensions:', dimensions)\n"
   ]
  },
  {
   "cell_type": "code",
   "execution_count": null,
   "metadata": {},
   "outputs": [],
   "source": [
    "# Add test vectors to dictionary\n",
    "vecDict = vec2Text.initializeVectorDictionary(dimensions)\n",
    "\n",
    "counter = 0\n",
    "with open(vec2Text.dataFile) as f:\n",
    "\n",
    "    for line in f:\n",
    "        fields = line.split('\\t')\n",
    "        cur_vec = vec2TextSentenceTransformer.contentToMeanEmbedding(fields[1])\n",
    "        for d in range(dimensions):\n",
    "            vecDict[str(d)].append(cur_vec[d])\n",
    "\n",
    "        counter +=1\n",
    "        if counter % 100 == 0:\n",
    "            print ('Processed:', counter, 'of', vec2Text.testSamplesToTest)\n",
    "        if counter == vec2Text.testSamplesToTest:\n",
    "            print ('Completed:', counter, 'of', vec2Text.testSamplesToTest)\n",
    "            break\n"
   ]
  },
  {
   "cell_type": "code",
   "execution_count": null,
   "metadata": {},
   "outputs": [],
   "source": [
    "# Find the cluster centers\n",
    "clusterCenters = vec2Text.findClusterCenters(dimensions, vecDict)"
   ]
  },
  {
   "cell_type": "code",
   "execution_count": null,
   "metadata": {},
   "outputs": [],
   "source": [
    "# Save the cluster centers\n",
    "with open(vec2Text.clusterCenterFile, 'wb') as pickle_out:\n",
    "    pickle.dump(clusterCenters, pickle_out)"
   ]
  },
  {
   "cell_type": "code",
   "execution_count": null,
   "metadata": {},
   "outputs": [],
   "source": []
  }
 ],
 "metadata": {
  "kernelspec": {
   "display_name": "azureml_py36_tensorflow",
   "language": "python",
   "name": "conda-env-azureml_py36_tensorflow-py"
  },
  "language_info": {
   "codemirror_mode": {
    "name": "ipython",
    "version": 3
   },
   "file_extension": ".py",
   "mimetype": "text/x-python",
   "name": "python",
   "nbconvert_exporter": "python",
   "pygments_lexer": "ipython3",
   "version": "3.6.9"
  }
 },
 "nbformat": 4,
 "nbformat_minor": 4
}
