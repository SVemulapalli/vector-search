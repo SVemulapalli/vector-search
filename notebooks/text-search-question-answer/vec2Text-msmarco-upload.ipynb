{
 "cells": [
  {
   "cell_type": "code",
   "execution_count": null,
   "metadata": {},
   "outputs": [],
   "source": [
    "import azureCognitiveSearch\n",
    "import vec2Text\n",
    "import vec2TextSentenceTransformer\n",
    "\n",
    "import pickle \n"
   ]
  },
  {
   "cell_type": "code",
   "execution_count": null,
   "metadata": {},
   "outputs": [],
   "source": [
    "# Load the cluster centers\n",
    "with open(vec2Text.clusterCenterFile, 'rb') as pickle_in:\n",
    "    clusterCenters = pickle.load(pickle_in)"
   ]
  },
  {
   "cell_type": "code",
   "execution_count": null,
   "metadata": {},
   "outputs": [],
   "source": [
    "# Reset Index\n",
    "azureCognitiveSearch.deleteIndex()\n",
    "azureCognitiveSearch.createIndex()"
   ]
  },
  {
   "cell_type": "code",
   "execution_count": null,
   "metadata": {},
   "outputs": [],
   "source": [
    "# Upload to Cognitive Search\n",
    "max_batch_size = 100\n",
    "documents = []\n",
    "\n",
    "counter = 0\n",
    "with open(vec2Text.dataFile) as f:\n",
    "    for line in f:\n",
    "        fields = line.split('\\t')\n",
    "        curVec = vec2TextSentenceTransformer.contentToMeanEmbedding(fields[1])\n",
    "        vecText = ''\n",
    "        for d in range(len(curVec)):\n",
    "            vecText += vec2Text.convertFieldNumToString(d) + str(vec2Text.closest(clusterCenters[d], curVec[d])) + ' '\n",
    "\n",
    "        documents.append({\"@search.action\": \"upload\",\"Id\": vec2Text.stringToBase64(fields[0]), \"Content\": fields[1],\"VecText\": vecText })\n",
    "\n",
    "        counter += 1\n",
    "        if len(documents) == max_batch_size:\n",
    "            azureCognitiveSearch.uploadDocuments(documents)\n",
    "            documents = []\n",
    "            print ('Processed:', counter)\n",
    "\n",
    "if len(documents) > 0:\n",
    "    azureCognitiveSearch.uploadDocuments(documents)\n",
    "    documents = []\n",
    "    print ('Processed:', counter)\n"
   ]
  },
  {
   "cell_type": "code",
   "execution_count": null,
   "metadata": {},
   "outputs": [],
   "source": []
  }
 ],
 "metadata": {
  "kernelspec": {
   "display_name": "azureml_py36_tensorflow",
   "language": "python",
   "name": "conda-env-azureml_py36_tensorflow-py"
  },
  "language_info": {
   "codemirror_mode": {
    "name": "ipython",
    "version": 3
   },
   "file_extension": ".py",
   "mimetype": "text/x-python",
   "name": "python",
   "nbconvert_exporter": "python",
   "pygments_lexer": "ipython3",
   "version": "3.6.9"
  }
 },
 "nbformat": 4,
 "nbformat_minor": 4
}
